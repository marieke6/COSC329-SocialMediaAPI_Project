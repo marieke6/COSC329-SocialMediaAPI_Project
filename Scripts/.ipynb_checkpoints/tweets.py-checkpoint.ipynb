{
 "cells": [
  {
   "cell_type": "code",
   "execution_count": 33,
   "id": "b3e20b1d",
   "metadata": {},
   "outputs": [],
   "source": [
    "import tweepy\n",
    "import datetime\n",
    "import pandas as pd"
   ]
  },
  {
   "cell_type": "code",
   "execution_count": 30,
   "id": "57ae4c91",
   "metadata": {},
   "outputs": [
    {
     "name": "stdout",
     "output_type": "stream",
     "text": [
      "One down, five to go\n",
      "Sent $500 cash. Make sure u hit accept krystle so it deposits. Thx🔨 https://t.co/8yLPHXxWJS https://t.co/XQKDuudLXT\n",
      "First $500 for today goes to ...\n",
      "You guys sure do know how to spread love.  Even though I'm not with them, I always try to support Pulte Homes! Gonn… https://t.co/plvNXs74Wu\n",
      "When the professor is passionate about the subject and you genuinely enjoy the class https://t.co/uCwlns1OKn\n",
      "Actually $500\n",
      "Alright here goes first $250\n",
      "College is basically just sitting in different parts of your house with your laptop open\n",
      "Actually I'm gonna do $3000 today cuz I'm just in that mood\n",
      "Today I’m going to be giving away $1,000 on Twitter. This is separate from the $10,000 I will be putting in the Pul… https://t.co/aXh9Bu8Qvi\n",
      "10 big Pulte Gingerbread Houses lol, ready for Christmas https://t.co/mxfHwTHUVL\n",
      "WE LOVE YOU MICHIGAN! \n",
      "\n",
      "I’d like to thank the Borra Family for coming alongside our Pulte Family to lead 4.3 $Milli… https://t.co/QACvCxPmlk\n",
      "There’s more https://t.co/eurVSoxVlx\n",
      "We’re laying them out on the conference room table now. They’re beautiful. We’re gonna hide things inside of them f… https://t.co/FQ0KZXPpPZ\n",
      "I ordered a ton of Ginger Bread houses for your Pulte Family Christmas Party. They just got delivered. Check ‘em ou… https://t.co/WEWQwknod4\n",
      "📅 14th December 2021\n",
      "🐮 Holly\n",
      "🏷️ Instagram/catalinaacreshomestead\n",
      "💕#animaloftheday https://t.co/JrTo6E6pvV\n",
      "This fucking game    It was over.  Now it’s over the other way\n",
      "Answer is 3 https://t.co/UcKIB7aLku https://t.co/oceGZ79WxC\n",
      "How many ice cream sandwiches are you allowed to eat in 1 sitting?\n",
      "If you are currently a follower (now called “teammate”) of mine you are eligible for money tmrw\n"
     ]
    }
   ],
   "source": [
    "#Add your credentials here\n",
    "twitter_keys = {\n",
    "        'consumer_key':        'ZY4YRvWXUFKngcrq1vV7xTEmZ',\n",
    "        'consumer_secret':     'k2DbIF8l2LtTpnHr3i9EBj2IzOAxlNzbDgQH5s29O5gMr8Vdj1',\n",
    "        'access_token_key':    '1408955612-dKpMXv4Oo0jIGSXVxH15ReLMxbaDIgGINmQ42Pf',\n",
    "        'access_token_secret': 'EAaHvW7j8q9OtUOev30YFlhs9KfS3VGP0qIC6spsrJhr3'\n",
    "    }\n",
    "\n",
    "#Setup access to API\n",
    "auth = tweepy.OAuthHandler(twitter_keys['consumer_key'], twitter_keys['consumer_secret'])\n",
    "auth.set_access_token(twitter_keys['access_token_key'], twitter_keys['access_token_secret'])\n",
    "\n",
    "api = tweepy.API(auth)\n",
    "\n",
    "#Make call on home timeline, print each tweets text\n",
    "public_tweets = api.home_timeline()\n",
    "for tweet in public_tweets:\n",
    "    print(tweet.text)\n"
   ]
  },
  {
   "cell_type": "code",
   "execution_count": 31,
   "id": "f54b73d7",
   "metadata": {},
   "outputs": [
    {
     "data": {
      "text/plain": [
       "Status(_api=<tweepy.api.API object at 0x7fccd39b93a0>, _json={'created_at': 'Tue Dec 14 18:20:36 +0000 2021', 'id': 1470821036430139396, 'id_str': '1470821036430139396', 'text': 'One down, five to go', 'truncated': False, 'entities': {'hashtags': [], 'symbols': [], 'user_mentions': [], 'urls': []}, 'source': '<a href=\"https://mobile.twitter.com\" rel=\"nofollow\">Twitter Web App</a>', 'in_reply_to_status_id': None, 'in_reply_to_status_id_str': None, 'in_reply_to_user_id': None, 'in_reply_to_user_id_str': None, 'in_reply_to_screen_name': None, 'user': {'id': 25029495, 'id_str': '25029495', 'name': 'Pulte', 'screen_name': 'pulte', 'location': 'Love', 'description': 'The Philanthropist. Inventor of Twitter Philanthropy. Giving Money, Food, and Rent to People In Need.', 'url': None, 'entities': {'description': {'urls': []}}, 'protected': False, 'followers_count': 3230578, 'friends_count': 701, 'listed_count': 1431, 'created_at': 'Wed Mar 18 04:44:13 +0000 2009', 'favourites_count': 11459, 'utc_offset': None, 'time_zone': None, 'geo_enabled': False, 'verified': True, 'statuses_count': 9302, 'lang': None, 'contributors_enabled': False, 'is_translator': False, 'is_translation_enabled': False, 'profile_background_color': '022330', 'profile_background_image_url': 'http://abs.twimg.com/images/themes/theme15/bg.png', 'profile_background_image_url_https': 'https://abs.twimg.com/images/themes/theme15/bg.png', 'profile_background_tile': False, 'profile_image_url': 'http://pbs.twimg.com/profile_images/1228391693780766720/F06kNywK_normal.jpg', 'profile_image_url_https': 'https://pbs.twimg.com/profile_images/1228391693780766720/F06kNywK_normal.jpg', 'profile_banner_url': 'https://pbs.twimg.com/profile_banners/25029495/1638632818', 'profile_link_color': '0084B4', 'profile_sidebar_border_color': 'A8C7F7', 'profile_sidebar_fill_color': 'C0DFEC', 'profile_text_color': '333333', 'profile_use_background_image': True, 'has_extended_profile': True, 'default_profile': False, 'default_profile_image': False, 'following': True, 'follow_request_sent': False, 'notifications': False, 'translator_type': 'none', 'withheld_in_countries': []}, 'geo': None, 'coordinates': None, 'place': None, 'contributors': None, 'is_quote_status': False, 'retweet_count': 1896, 'favorite_count': 10039, 'favorited': False, 'retweeted': False, 'lang': 'en'}, created_at=datetime.datetime(2021, 12, 14, 18, 20, 36, tzinfo=datetime.timezone.utc), id=1470821036430139396, id_str='1470821036430139396', text='One down, five to go', truncated=False, entities={'hashtags': [], 'symbols': [], 'user_mentions': [], 'urls': []}, source='Twitter Web App', source_url='https://mobile.twitter.com', in_reply_to_status_id=None, in_reply_to_status_id_str=None, in_reply_to_user_id=None, in_reply_to_user_id_str=None, in_reply_to_screen_name=None, author=User(_api=<tweepy.api.API object at 0x7fccd39b93a0>, _json={'id': 25029495, 'id_str': '25029495', 'name': 'Pulte', 'screen_name': 'pulte', 'location': 'Love', 'description': 'The Philanthropist. Inventor of Twitter Philanthropy. Giving Money, Food, and Rent to People In Need.', 'url': None, 'entities': {'description': {'urls': []}}, 'protected': False, 'followers_count': 3230578, 'friends_count': 701, 'listed_count': 1431, 'created_at': 'Wed Mar 18 04:44:13 +0000 2009', 'favourites_count': 11459, 'utc_offset': None, 'time_zone': None, 'geo_enabled': False, 'verified': True, 'statuses_count': 9302, 'lang': None, 'contributors_enabled': False, 'is_translator': False, 'is_translation_enabled': False, 'profile_background_color': '022330', 'profile_background_image_url': 'http://abs.twimg.com/images/themes/theme15/bg.png', 'profile_background_image_url_https': 'https://abs.twimg.com/images/themes/theme15/bg.png', 'profile_background_tile': False, 'profile_image_url': 'http://pbs.twimg.com/profile_images/1228391693780766720/F06kNywK_normal.jpg', 'profile_image_url_https': 'https://pbs.twimg.com/profile_images/1228391693780766720/F06kNywK_normal.jpg', 'profile_banner_url': 'https://pbs.twimg.com/profile_banners/25029495/1638632818', 'profile_link_color': '0084B4', 'profile_sidebar_border_color': 'A8C7F7', 'profile_sidebar_fill_color': 'C0DFEC', 'profile_text_color': '333333', 'profile_use_background_image': True, 'has_extended_profile': True, 'default_profile': False, 'default_profile_image': False, 'following': True, 'follow_request_sent': False, 'notifications': False, 'translator_type': 'none', 'withheld_in_countries': []}, id=25029495, id_str='25029495', name='Pulte', screen_name='pulte', location='Love', description='The Philanthropist. Inventor of Twitter Philanthropy. Giving Money, Food, and Rent to People In Need.', url=None, entities={'description': {'urls': []}}, protected=False, followers_count=3230578, friends_count=701, listed_count=1431, created_at=datetime.datetime(2009, 3, 18, 4, 44, 13, tzinfo=datetime.timezone.utc), favourites_count=11459, utc_offset=None, time_zone=None, geo_enabled=False, verified=True, statuses_count=9302, lang=None, contributors_enabled=False, is_translator=False, is_translation_enabled=False, profile_background_color='022330', profile_background_image_url='http://abs.twimg.com/images/themes/theme15/bg.png', profile_background_image_url_https='https://abs.twimg.com/images/themes/theme15/bg.png', profile_background_tile=False, profile_image_url='http://pbs.twimg.com/profile_images/1228391693780766720/F06kNywK_normal.jpg', profile_image_url_https='https://pbs.twimg.com/profile_images/1228391693780766720/F06kNywK_normal.jpg', profile_banner_url='https://pbs.twimg.com/profile_banners/25029495/1638632818', profile_link_color='0084B4', profile_sidebar_border_color='A8C7F7', profile_sidebar_fill_color='C0DFEC', profile_text_color='333333', profile_use_background_image=True, has_extended_profile=True, default_profile=False, default_profile_image=False, following=True, follow_request_sent=False, notifications=False, translator_type='none', withheld_in_countries=[]), user=User(_api=<tweepy.api.API object at 0x7fccd39b93a0>, _json={'id': 25029495, 'id_str': '25029495', 'name': 'Pulte', 'screen_name': 'pulte', 'location': 'Love', 'description': 'The Philanthropist. Inventor of Twitter Philanthropy. Giving Money, Food, and Rent to People In Need.', 'url': None, 'entities': {'description': {'urls': []}}, 'protected': False, 'followers_count': 3230578, 'friends_count': 701, 'listed_count': 1431, 'created_at': 'Wed Mar 18 04:44:13 +0000 2009', 'favourites_count': 11459, 'utc_offset': None, 'time_zone': None, 'geo_enabled': False, 'verified': True, 'statuses_count': 9302, 'lang': None, 'contributors_enabled': False, 'is_translator': False, 'is_translation_enabled': False, 'profile_background_color': '022330', 'profile_background_image_url': 'http://abs.twimg.com/images/themes/theme15/bg.png', 'profile_background_image_url_https': 'https://abs.twimg.com/images/themes/theme15/bg.png', 'profile_background_tile': False, 'profile_image_url': 'http://pbs.twimg.com/profile_images/1228391693780766720/F06kNywK_normal.jpg', 'profile_image_url_https': 'https://pbs.twimg.com/profile_images/1228391693780766720/F06kNywK_normal.jpg', 'profile_banner_url': 'https://pbs.twimg.com/profile_banners/25029495/1638632818', 'profile_link_color': '0084B4', 'profile_sidebar_border_color': 'A8C7F7', 'profile_sidebar_fill_color': 'C0DFEC', 'profile_text_color': '333333', 'profile_use_background_image': True, 'has_extended_profile': True, 'default_profile': False, 'default_profile_image': False, 'following': True, 'follow_request_sent': False, 'notifications': False, 'translator_type': 'none', 'withheld_in_countries': []}, id=25029495, id_str='25029495', name='Pulte', screen_name='pulte', location='Love', description='The Philanthropist. Inventor of Twitter Philanthropy. Giving Money, Food, and Rent to People In Need.', url=None, entities={'description': {'urls': []}}, protected=False, followers_count=3230578, friends_count=701, listed_count=1431, created_at=datetime.datetime(2009, 3, 18, 4, 44, 13, tzinfo=datetime.timezone.utc), favourites_count=11459, utc_offset=None, time_zone=None, geo_enabled=False, verified=True, statuses_count=9302, lang=None, contributors_enabled=False, is_translator=False, is_translation_enabled=False, profile_background_color='022330', profile_background_image_url='http://abs.twimg.com/images/themes/theme15/bg.png', profile_background_image_url_https='https://abs.twimg.com/images/themes/theme15/bg.png', profile_background_tile=False, profile_image_url='http://pbs.twimg.com/profile_images/1228391693780766720/F06kNywK_normal.jpg', profile_image_url_https='https://pbs.twimg.com/profile_images/1228391693780766720/F06kNywK_normal.jpg', profile_banner_url='https://pbs.twimg.com/profile_banners/25029495/1638632818', profile_link_color='0084B4', profile_sidebar_border_color='A8C7F7', profile_sidebar_fill_color='C0DFEC', profile_text_color='333333', profile_use_background_image=True, has_extended_profile=True, default_profile=False, default_profile_image=False, following=True, follow_request_sent=False, notifications=False, translator_type='none', withheld_in_countries=[]), geo=None, coordinates=None, place=None, contributors=None, is_quote_status=False, retweet_count=1896, favorite_count=10039, favorited=False, retweeted=False, lang='en')"
      ]
     },
     "execution_count": 31,
     "metadata": {},
     "output_type": "execute_result"
    }
   ],
   "source": [
    "public_tweets[0]"
   ]
  },
  {
   "cell_type": "code",
   "execution_count": 34,
   "id": "4051235b",
   "metadata": {},
   "outputs": [
    {
     "name": "stdout",
     "output_type": "stream",
     "text": [
      "{\n",
      "    \"contributors\": null,\n",
      "    \"coordinates\": null,\n",
      "    \"created_at\": \"Tue Dec 14 18:20:36 +0000 2021\",\n",
      "    \"entities\": {\n",
      "        \"hashtags\": [],\n",
      "        \"symbols\": [],\n",
      "        \"urls\": [],\n",
      "        \"user_mentions\": []\n",
      "    },\n",
      "    \"favorite_count\": 10039,\n",
      "    \"favorited\": false,\n",
      "    \"geo\": null,\n",
      "    \"id\": 1470821036430139396,\n",
      "    \"id_str\": \"1470821036430139396\",\n",
      "    \"in_reply_to_screen_name\": null,\n",
      "    \"in_reply_to_status_id\": null,\n",
      "    \"in_reply_to_status_id_str\": null,\n",
      "    \"in_reply_to_user_id\": null,\n",
      "    \"in_reply_to_user_id_str\": null,\n",
      "    \"is_quote_status\": false,\n",
      "    \"lang\": \"en\",\n",
      "    \"place\": null,\n",
      "    \"retweet_count\": 1896,\n",
      "    \"retweeted\": false,\n",
      "    \"source\": \"<a href=\\\"https://mobile.twitter.com\\\" rel=\\\"nofollow\\\">Twitter Web App</a>\",\n",
      "    \"text\": \"One down, five to go\",\n",
      "    \"truncated\": false,\n",
      "    \"user\": {\n",
      "        \"contributors_enabled\": false,\n",
      "        \"created_at\": \"Wed Mar 18 04:44:13 +0000 2009\",\n",
      "        \"default_profile\": false,\n",
      "        \"default_profile_image\": false,\n",
      "        \"description\": \"The Philanthropist. Inventor of Twitter Philanthropy. Giving Money, Food, and Rent to People In Need.\",\n",
      "        \"entities\": {\n",
      "            \"description\": {\n",
      "                \"urls\": []\n",
      "            }\n",
      "        },\n",
      "        \"favourites_count\": 11459,\n",
      "        \"follow_request_sent\": false,\n",
      "        \"followers_count\": 3230578,\n",
      "        \"following\": true,\n",
      "        \"friends_count\": 701,\n",
      "        \"geo_enabled\": false,\n",
      "        \"has_extended_profile\": true,\n",
      "        \"id\": 25029495,\n",
      "        \"id_str\": \"25029495\",\n",
      "        \"is_translation_enabled\": false,\n",
      "        \"is_translator\": false,\n",
      "        \"lang\": null,\n",
      "        \"listed_count\": 1431,\n",
      "        \"location\": \"Love\",\n",
      "        \"name\": \"Pulte\",\n",
      "        \"notifications\": false,\n",
      "        \"profile_background_color\": \"022330\",\n",
      "        \"profile_background_image_url\": \"http://abs.twimg.com/images/themes/theme15/bg.png\",\n",
      "        \"profile_background_image_url_https\": \"https://abs.twimg.com/images/themes/theme15/bg.png\",\n",
      "        \"profile_background_tile\": false,\n",
      "        \"profile_banner_url\": \"https://pbs.twimg.com/profile_banners/25029495/1638632818\",\n",
      "        \"profile_image_url\": \"http://pbs.twimg.com/profile_images/1228391693780766720/F06kNywK_normal.jpg\",\n",
      "        \"profile_image_url_https\": \"https://pbs.twimg.com/profile_images/1228391693780766720/F06kNywK_normal.jpg\",\n",
      "        \"profile_link_color\": \"0084B4\",\n",
      "        \"profile_sidebar_border_color\": \"A8C7F7\",\n",
      "        \"profile_sidebar_fill_color\": \"C0DFEC\",\n",
      "        \"profile_text_color\": \"333333\",\n",
      "        \"profile_use_background_image\": true,\n",
      "        \"protected\": false,\n",
      "        \"screen_name\": \"pulte\",\n",
      "        \"statuses_count\": 9302,\n",
      "        \"time_zone\": null,\n",
      "        \"translator_type\": \"none\",\n",
      "        \"url\": null,\n",
      "        \"utc_offset\": null,\n",
      "        \"verified\": true,\n",
      "        \"withheld_in_countries\": []\n",
      "    }\n",
      "}\n"
     ]
    }
   ],
   "source": [
    "import json \n",
    "\n",
    "status = public_tweets[0]\n",
    "\n",
    "#convert to string\n",
    "json_str = json.dumps(status._json)\n",
    "\n",
    "#deserialise string into python object\n",
    "parsed = json.loads(json_str)\n",
    "\n",
    "print(json.dumps(parsed, indent=4, sort_keys=True))"
   ]
  },
  {
   "cell_type": "code",
   "execution_count": null,
   "id": "cdcb36f8",
   "metadata": {},
   "outputs": [],
   "source": []
  }
 ],
 "metadata": {
  "kernelspec": {
   "display_name": "Python 3 (ipykernel)",
   "language": "python",
   "name": "python3"
  },
  "language_info": {
   "codemirror_mode": {
    "name": "ipython",
    "version": 3
   },
   "file_extension": ".py",
   "mimetype": "text/x-python",
   "name": "python",
   "nbconvert_exporter": "python",
   "pygments_lexer": "ipython3",
   "version": "3.9.5"
  }
 },
 "nbformat": 4,
 "nbformat_minor": 5
}
