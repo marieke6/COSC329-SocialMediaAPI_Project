{
 "cells": [
  {
   "cell_type": "code",
   "execution_count": null,
   "id": "cc59a762",
   "metadata": {},
   "outputs": [],
   "source": [
    "import requests\n",
    "import json"
   ]
  },
  {
   "cell_type": "code",
   "execution_count": null,
   "id": "af631a21",
   "metadata": {},
   "outputs": [],
   "source": [
    "bearer_token = \"AAAAAAAAAAAAAAAAAAAAADOGWwEAAAAA8JNxbK%2FuaH1fTmxeT0f7NIR38wk%3DIP5hQxh0d9NIj6tH4ezCQjlCUF5nYEccBpYjrIKgFE7g1jKOAE\"\n",
    "url = \"https://api.twitter.com/2/tweets/search/recent?query=\"\n",
    "twitter_params = \"Covid\" #desired hashtag\n",
    "url = url + twitter_params"
   ]
  },
  {
   "cell_type": "code",
   "execution_count": null,
   "id": "231189d3",
   "metadata": {},
   "outputs": [],
   "source": [
    "headers = {\"Authorization\": \"Bearer {}\".format(bearer_token)}\n",
    "response = requests.request(\"GET\", url, headers=headers)\n",
    "res_json = response.json()"
   ]
  },
  {
   "cell_type": "code",
   "execution_count": null,
   "id": "7e20148f",
   "metadata": {},
   "outputs": [],
   "source": [
    "res_json"
   ]
  }
 ],
 "metadata": {
  "kernelspec": {
   "display_name": "Python 3 (ipykernel)",
   "language": "python",
   "name": "python3"
  },
  "language_info": {
   "codemirror_mode": {
    "name": "ipython",
    "version": 3
   },
   "file_extension": ".py",
   "mimetype": "text/x-python",
   "name": "python",
   "nbconvert_exporter": "python",
   "pygments_lexer": "ipython3",
   "version": "3.9.5"
  }
 },
 "nbformat": 4,
 "nbformat_minor": 5
}
